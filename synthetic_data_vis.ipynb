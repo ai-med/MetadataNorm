{
 "cells": [
  {
   "cell_type": "markdown",
   "metadata": {},
   "source": [
    "# Synthetic Data Visualization\n",
    "\n",
    "Visualize the synthetic data generation process. This file is for demonstration purposes only, the data used by `train.py` is in generated in the same file. "
   ]
  },
  {
   "cell_type": "code",
   "execution_count": 4,
   "metadata": {},
   "outputs": [],
   "source": [
    "# Import necessary functions\n",
    "import matplotlib.pyplot as plt\n",
    "import matplotlib\n",
    "import numpy as np\n",
    "import numpy.random as random\n",
    "from utils import *"
   ]
  },
  {
   "cell_type": "markdown",
   "metadata": {},
   "source": [
    "## Generating Synthetic Data\n",
    "\n",
    "The training images of two groups are simulated. Each image contains 4 Gaussian distribution density functions. Let the 4 standard deviations be:\n",
    "\n",
    "|  $\\sigma_1$ | $\\sigma_2$  |\n",
    "\n",
    "|  $\\sigma_3$ | $\\sigma_4$  |\n",
    "\n",
    "The 4 Gaussians are constructed such that\n",
    "\n",
    "1. two diagonal Gaussians $\\sigma_1,\\sigma_4$ are linked to a factor of interest $mf$ (e.g. true effect between two classes)\n",
    "2. the bottom off-diagonal Gaussians $\\sigma_3$ is linked to the confounding factor $cf_1$."
   ]
  },
  {
   "cell_type": "code",
   "execution_count": 5,
   "metadata": {},
   "outputs": [],
   "source": [
    "\n",
    "# Generate synthetic training images. The version of generate_data used in train.py is in utils.py \n",
    "def generate_data(N, seed=4201):\n",
    "    \n",
    "    np.random.seed(seed)\n",
    "    \n",
    "    labels = np.zeros((N*2,))\n",
    "    labels[N:] = 1\n",
    "\n",
    "    # 2 confounding effects between 2 groups\n",
    "    cf1 = np.zeros((N*2,))\n",
    "    cf2 = np.zeros((N*2,))\n",
    "    cf1[:N] = np.random.uniform(1,4,size=N) \n",
    "    cf1[N:] = np.random.uniform(3,6,size=N) \n",
    "    cf2[:N] = np.random.uniform(1,4,size=N) \n",
    "    cf2[N:] = np.random.uniform(3,6,size=N)\n",
    "\n",
    "    # 2 major effects between 2 groups\n",
    "    np.random.seed(seed+1)\n",
    "    mf = np.zeros((N*2,))\n",
    "    mf[:N] = np.random.uniform(1,4,size=N) \n",
    "    mf[N:] = np.random.uniform(3,6,size=N)\n",
    "    \n",
    "    # simulate images\n",
    "    d = int(32)\n",
    "    dh = d//2\n",
    "    x = np.zeros((N*2,d,d,1)) \n",
    "    y = np.zeros((N*2,)) \n",
    "    y[N:] = 1\n",
    "    for i in range(N*2):\n",
    "        x[i,:dh,:dh,0] = gkern(kernlen=d//2, nsig=5)*mf[i]\n",
    "        x[i,dh:,:dh,0] = gkern(kernlen=d//2, nsig=5)*cf1[i]\n",
    "        x[i,dh:,dh:,0] = gkern(kernlen=d//2, nsig=5)*mf[i]\n",
    "        x[i] = x[i] + np.random.normal(0,0.01,size=(d,d,1)) # random noise\n",
    "        \n",
    "    return labels, cf1, cf2, mf, x, y\n",
    "\n",
    "labels, cf1, cf2, mf, x, y = generate_data(1000, seed=1)"
   ]
  },
  {
   "cell_type": "markdown",
   "metadata": {},
   "source": [
    "## Visualize Synthetic Images"
   ]
  },
  {
   "cell_type": "code",
   "execution_count": 6,
   "metadata": {},
   "outputs": [
    {
     "data": {
      "image/png": "[encoded data removed]",
      "text/plain": [
       "<Figure size 432x288 with 2 Axes>"
      ]
     },
     "metadata": {
      "needs_background": "light"
     },
     "output_type": "display_data"
    }
   ],
   "source": [
    "plt.imshow(x[0,:,:,0],cmap='gray')\n",
    "plt.colorbar()\n",
    "plt.title(\"a synthetic training image (Group 1)\"); \n",
    "plt.xticks(np.arange(0), ())\n",
    "plt.yticks(np.arange(0), ()) \n",
    "plt.savefig('synthetic_sample_group1.jpg', format='jpg', dpi=300)"
   ]
  },
  {
   "cell_type": "code",
   "execution_count": 7,
   "metadata": {},
   "outputs": [
    {
     "data": {
      "image/png": "[encoded data removed]",
      "text/plain": [
       "<Figure size 432x288 with 2 Axes>"
      ]
     },
     "metadata": {
      "needs_background": "light"
     },
     "output_type": "display_data"
    }
   ],
   "source": [
    "plt.imshow(x[1200,:,:,0],cmap='gray')\n",
    "plt.colorbar()\n",
    "plt.title(\"a synthetic training image (Group 2)\"); \n",
    "plt.xticks(np.arange(0), ())\n",
    "plt.yticks(np.arange(0), ()) \n",
    "plt.savefig('synthetic_sample_group2.jpg', format='jpg', dpi=300)"
   ]
  }
 ],
 "metadata": {
  "kernelspec": {
   "display_name": "Python 3",
   "language": "python",
   "name": "python3"
  },
  "language_info": {
   "codemirror_mode": {
    "name": "ipython",
    "version": 3
   },
   "file_extension": ".py",
   "mimetype": "text/x-python",
   "name": "python",
   "nbconvert_exporter": "python",
   "pygments_lexer": "ipython3",
   "version": "3.7.9"
  }
 },
 "nbformat": 4,
 "nbformat_minor": 2
}
